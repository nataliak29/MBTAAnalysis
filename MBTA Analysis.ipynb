{
 "cells": [
  {
   "cell_type": "markdown",
   "metadata": {},
   "source": [
    "# MBTA Analysis\n"
   ]
  },
  {
   "cell_type": "markdown",
   "metadata": {},
   "source": [
    "## Routes"
   ]
  },
  {
   "cell_type": "code",
   "execution_count": 11,
   "metadata": {},
   "outputs": [
    {
     "data": {
      "text/html": [
       "<div>\n",
       "<style>\n",
       "    .dataframe thead tr:only-child th {\n",
       "        text-align: right;\n",
       "    }\n",
       "\n",
       "    .dataframe thead th {\n",
       "        text-align: left;\n",
       "    }\n",
       "\n",
       "    .dataframe tbody tr th {\n",
       "        vertical-align: top;\n",
       "    }\n",
       "</style>\n",
       "<table border=\"1\" class=\"dataframe\">\n",
       "  <thead>\n",
       "    <tr style=\"text-align: right;\">\n",
       "      <th></th>\n",
       "      <th>routeID</th>\n",
       "      <th>routeType</th>\n",
       "      <th>fromStop</th>\n",
       "      <th>toStop</th>\n",
       "    </tr>\n",
       "  </thead>\n",
       "  <tbody>\n",
       "    <tr>\n",
       "      <th>0</th>\n",
       "      <td>Red</td>\n",
       "      <td>Rapid Transit</td>\n",
       "      <td>Alewife</td>\n",
       "      <td>Ashmont/Braintree</td>\n",
       "    </tr>\n",
       "    <tr>\n",
       "      <th>1</th>\n",
       "      <td>Mattapan</td>\n",
       "      <td>Rapid Transit</td>\n",
       "      <td>Ashmont</td>\n",
       "      <td>Mattapan</td>\n",
       "    </tr>\n",
       "    <tr>\n",
       "      <th>2</th>\n",
       "      <td>Orange</td>\n",
       "      <td>Rapid Transit</td>\n",
       "      <td>Oak Grove</td>\n",
       "      <td>Forest Hills</td>\n",
       "    </tr>\n",
       "    <tr>\n",
       "      <th>3</th>\n",
       "      <td>Green-B</td>\n",
       "      <td>Rapid Transit</td>\n",
       "      <td>Park Street</td>\n",
       "      <td>Boston College</td>\n",
       "    </tr>\n",
       "    <tr>\n",
       "      <th>4</th>\n",
       "      <td>Green-C</td>\n",
       "      <td>Rapid Transit</td>\n",
       "      <td>North Station</td>\n",
       "      <td>Cleveland Circle</td>\n",
       "    </tr>\n",
       "  </tbody>\n",
       "</table>\n",
       "</div>"
      ],
      "text/plain": [
       "    routeID      routeType       fromStop             toStop\n",
       "0       Red  Rapid Transit        Alewife  Ashmont/Braintree\n",
       "1  Mattapan  Rapid Transit        Ashmont           Mattapan\n",
       "2    Orange  Rapid Transit      Oak Grove       Forest Hills\n",
       "3   Green-B  Rapid Transit    Park Street     Boston College\n",
       "4   Green-C  Rapid Transit  North Station   Cleveland Circle"
      ]
     },
     "execution_count": 11,
     "metadata": {},
     "output_type": "execute_result"
    }
   ],
   "source": [
    "from get_route_ids import get_route_ids\n",
    "routes=get_route_ids()\n",
    "routes.head()"
   ]
  },
  {
   "cell_type": "markdown",
   "metadata": {},
   "source": [
    "## Route Schedules"
   ]
  },
  {
   "cell_type": "code",
   "execution_count": 13,
   "metadata": {},
   "outputs": [
    {
     "data": {
      "text/html": [
       "<div>\n",
       "<style>\n",
       "    .dataframe thead tr:only-child th {\n",
       "        text-align: right;\n",
       "    }\n",
       "\n",
       "    .dataframe thead th {\n",
       "        text-align: left;\n",
       "    }\n",
       "\n",
       "    .dataframe tbody tr th {\n",
       "        vertical-align: top;\n",
       "    }\n",
       "</style>\n",
       "<table border=\"1\" class=\"dataframe\">\n",
       "  <thead>\n",
       "    <tr style=\"text-align: right;\">\n",
       "      <th></th>\n",
       "      <th>routeID</th>\n",
       "      <th>tripID</th>\n",
       "      <th>date</th>\n",
       "      <th>stopID</th>\n",
       "      <th>stopSequence</th>\n",
       "      <th>arrivalTime</th>\n",
       "      <th>departureTime</th>\n",
       "    </tr>\n",
       "  </thead>\n",
       "  <tbody>\n",
       "    <tr>\n",
       "      <th>0</th>\n",
       "      <td>CR-Fairmount</td>\n",
       "      <td>CR-Weekday-Spring-19-751</td>\n",
       "      <td>2019-09-19</td>\n",
       "      <td>South Station</td>\n",
       "      <td>1</td>\n",
       "      <td>2019-09-19T06:24:00-04:00</td>\n",
       "      <td>2019-09-19T06:24:00-04:00</td>\n",
       "    </tr>\n",
       "    <tr>\n",
       "      <th>1</th>\n",
       "      <td>CR-Fairmount</td>\n",
       "      <td>CR-Weekday-Spring-19-751</td>\n",
       "      <td>2019-09-19</td>\n",
       "      <td>Newmarket</td>\n",
       "      <td>2</td>\n",
       "      <td>2019-09-19T06:32:00-04:00</td>\n",
       "      <td>2019-09-19T06:32:00-04:00</td>\n",
       "    </tr>\n",
       "    <tr>\n",
       "      <th>2</th>\n",
       "      <td>CR-Fairmount</td>\n",
       "      <td>CR-Weekday-Spring-19-751</td>\n",
       "      <td>2019-09-19</td>\n",
       "      <td>Uphams Corner</td>\n",
       "      <td>3</td>\n",
       "      <td>2019-09-19T06:34:00-04:00</td>\n",
       "      <td>2019-09-19T06:34:00-04:00</td>\n",
       "    </tr>\n",
       "    <tr>\n",
       "      <th>3</th>\n",
       "      <td>CR-Fairmount</td>\n",
       "      <td>CR-Weekday-Spring-19-751</td>\n",
       "      <td>2019-09-19</td>\n",
       "      <td>Four Corners / Geneva</td>\n",
       "      <td>4</td>\n",
       "      <td>2019-09-19T06:37:00-04:00</td>\n",
       "      <td>2019-09-19T06:37:00-04:00</td>\n",
       "    </tr>\n",
       "    <tr>\n",
       "      <th>4</th>\n",
       "      <td>CR-Fairmount</td>\n",
       "      <td>CR-Weekday-Spring-19-751</td>\n",
       "      <td>2019-09-19</td>\n",
       "      <td>Talbot Avenue</td>\n",
       "      <td>5</td>\n",
       "      <td>2019-09-19T06:40:00-04:00</td>\n",
       "      <td>2019-09-19T06:40:00-04:00</td>\n",
       "    </tr>\n",
       "  </tbody>\n",
       "</table>\n",
       "</div>"
      ],
      "text/plain": [
       "        routeID                    tripID        date                 stopID  \\\n",
       "0  CR-Fairmount  CR-Weekday-Spring-19-751  2019-09-19          South Station   \n",
       "1  CR-Fairmount  CR-Weekday-Spring-19-751  2019-09-19              Newmarket   \n",
       "2  CR-Fairmount  CR-Weekday-Spring-19-751  2019-09-19          Uphams Corner   \n",
       "3  CR-Fairmount  CR-Weekday-Spring-19-751  2019-09-19  Four Corners / Geneva   \n",
       "4  CR-Fairmount  CR-Weekday-Spring-19-751  2019-09-19          Talbot Avenue   \n",
       "\n",
       "  stopSequence                arrivalTime              departureTime  \n",
       "0            1  2019-09-19T06:24:00-04:00  2019-09-19T06:24:00-04:00  \n",
       "1            2  2019-09-19T06:32:00-04:00  2019-09-19T06:32:00-04:00  \n",
       "2            3  2019-09-19T06:34:00-04:00  2019-09-19T06:34:00-04:00  \n",
       "3            4  2019-09-19T06:37:00-04:00  2019-09-19T06:37:00-04:00  \n",
       "4            5  2019-09-19T06:40:00-04:00  2019-09-19T06:40:00-04:00  "
      ]
     },
     "execution_count": 13,
     "metadata": {},
     "output_type": "execute_result"
    }
   ],
   "source": [
    "from get_route_schedule import get_route_schedule\n",
    "from datetime import date\n",
    "today = date.today()\n",
    "route_schedules=get_route_schedule('CR-Fairmount',str(today), 0, '06:00', '22:00')\n",
    "route_schedules.head()"
   ]
  },
  {
   "cell_type": "markdown",
   "metadata": {},
   "source": [
    "## Actual Travel Time"
   ]
  },
  {
   "cell_type": "code",
   "execution_count": 17,
   "metadata": {},
   "outputs": [
    {
     "name": "stdout",
     "output_type": "stream",
     "text": [
      "Retreiving travel time data for 1 days for route CR-Fairmount ...\n"
     ]
    },
    {
     "data": {
      "text/html": [
       "<div>\n",
       "<style>\n",
       "    .dataframe thead tr:only-child th {\n",
       "        text-align: right;\n",
       "    }\n",
       "\n",
       "    .dataframe thead th {\n",
       "        text-align: left;\n",
       "    }\n",
       "\n",
       "    .dataframe tbody tr th {\n",
       "        vertical-align: top;\n",
       "    }\n",
       "</style>\n",
       "<table border=\"1\" class=\"dataframe\">\n",
       "  <thead>\n",
       "    <tr style=\"text-align: right;\">\n",
       "      <th></th>\n",
       "      <th>routeID</th>\n",
       "      <th>date</th>\n",
       "      <th>fromStop</th>\n",
       "      <th>toStop</th>\n",
       "      <th>departure</th>\n",
       "      <th>arrival</th>\n",
       "      <th>actualTravelTimeMin</th>\n",
       "      <th>benchmarkTravelTime</th>\n",
       "      <th>delay</th>\n",
       "    </tr>\n",
       "  </thead>\n",
       "  <tbody>\n",
       "  </tbody>\n",
       "</table>\n",
       "</div>"
      ],
      "text/plain": [
       "Empty DataFrame\n",
       "Columns: [routeID, date, fromStop, toStop, departure, arrival, actualTravelTimeMin, benchmarkTravelTime, delay]\n",
       "Index: []"
      ]
     },
     "execution_count": 17,
     "metadata": {},
     "output_type": "execute_result"
    }
   ],
   "source": [
    "from get_actual_travel_times import get_actual_travel_times\n",
    "main_from_date = '2019-09-01'\n",
    "main_to_date = '2019-09-02'\n",
    "from_time = '01:00:00'\n",
    "to_time = '23:00:00'\n",
    "fromStop = 'South Station'\n",
    "toStop = 'Fairmount'\n",
    "routeID = 'CR-Fairmount'\n",
    "# 'Haverhill'\n",
    "actual = get_actual_travel_times(routeID, main_from_date, main_to_date,fromStop, toStop)\n",
    "actual"
   ]
  },
  {
   "cell_type": "code",
   "execution_count": null,
   "metadata": {
    "collapsed": true
   },
   "outputs": [],
   "source": [
    "from clean_travel_times import clean_travel_times\n",
    "import pandas as pd\n",
    "import matplotlib.pyplot as plt\n",
    "import numpy as np\n",
    "\n",
    "data = clean_travel_times()\n",
    "data.head()"
   ]
  },
  {
   "cell_type": "code",
   "execution_count": 6,
   "metadata": {},
   "outputs": [
    {
     "data": {
      "image/png": "[encoded data removed]",
      "text/plain": [
       "<matplotlib.figure.Figure at 0x1c52735d208>"
      ]
     },
     "metadata": {},
     "output_type": "display_data"
    }
   ],
   "source": [
    "x = data.loc[:, 'delay']\n",
    "plt.hist(x, bins=20)\n",
    "plt.ylabel('No of times')\n",
    "plt.title('Delay of MBTA Commute Rail Trains')\n",
    "plt.show()"
   ]
  },
  {
   "cell_type": "code",
   "execution_count": null,
   "metadata": {
    "collapsed": true
   },
   "outputs": [],
   "source": []
  },
  {
   "cell_type": "code",
   "execution_count": null,
   "metadata": {
    "collapsed": true
   },
   "outputs": [],
   "source": []
  }
 ],
 "metadata": {
  "kernelspec": {
   "display_name": "Python 3",
   "language": "python",
   "name": "python3"
  },
  "language_info": {
   "codemirror_mode": {
    "name": "ipython",
    "version": 3
   },
   "file_extension": ".py",
   "mimetype": "text/x-python",
   "name": "python",
   "nbconvert_exporter": "python",
   "pygments_lexer": "ipython3",
   "version": "3.6.1"
  }
 },
 "nbformat": 4,
 "nbformat_minor": 2
}
